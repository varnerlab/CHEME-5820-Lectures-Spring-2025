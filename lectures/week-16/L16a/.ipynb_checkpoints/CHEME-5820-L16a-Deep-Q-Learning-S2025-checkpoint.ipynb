{
 "cells": [
  {
   "cell_type": "markdown",
   "id": "15c4f063-e112-4f5e-84c7-50336913dd59",
   "metadata": {},
   "source": [
    "# L16a: The Curse of Dimensionality and the Rise of Deep Q Learning"
   ]
  }
 ],
 "metadata": {
  "kernelspec": {
   "display_name": "Julia 1.11.5",
   "language": "julia",
   "name": "julia-1.11"
  },
  "language_info": {
   "file_extension": ".jl",
   "mimetype": "application/julia",
   "name": "julia",
   "version": "1.11.5"
  }
 },
 "nbformat": 4,
 "nbformat_minor": 5
}
