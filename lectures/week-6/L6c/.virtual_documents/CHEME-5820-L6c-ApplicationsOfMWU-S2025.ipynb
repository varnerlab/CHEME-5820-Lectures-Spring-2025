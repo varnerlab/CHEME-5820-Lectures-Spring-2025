

















include("Include.jl");





model = let

    # setup rock paper scissors payoff matrix
    M = [0 -1 1; 1 0 -1 ; -1 1 0]; 

    model = build(MyTwoPersonZeroSumGameModel, (
        ϵ = 0.8,
        n = 3,
        T = 20,
        payoffmatrix = M,
    ));

    model;
end;





(rps_sim, weights) = play(model);





let

    # initialize -
    T = model.T;
    moves = Dict{Int, String}(1 => "rock", 2=> "paper", 3=>"scissors"); # setup moves map
    df = DataFrame();

    # build rounds table -
    for t ∈ 1:T
        row_df = (
            game = t,
            player_1 = rps_sim[t,1] |> i-> moves[i],
            player_2 = rps_sim[t,2] |> i-> moves[i],
        )
        push!(df, row_df);
    end
    
    # build a table -
    pretty_table(df, tf = tf_simple)
end


weights*(1/3)






