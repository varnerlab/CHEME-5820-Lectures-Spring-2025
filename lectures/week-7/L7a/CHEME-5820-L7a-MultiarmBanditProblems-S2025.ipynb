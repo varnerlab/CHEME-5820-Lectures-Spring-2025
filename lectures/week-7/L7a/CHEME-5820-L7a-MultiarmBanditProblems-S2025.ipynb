{
 "cells": [
  {
   "cell_type": "markdown",
   "id": "0ad1b5f5",
   "metadata": {},
   "source": [
    "# L7a: Multiarm Bandit Problem\n",
    "In this lecture, we continue our discussion of online learning and will focus on the multiarm bandit problem. This lecture will introduce the following key concepts:\n",
    "* __Bandit problems__ are a class of online learning problems where an agent at teach turn must decide which arm (choice) to pull from a set of possible choices in order to maximize its reward. Alternatively, the agent must decide which choice to make to minimize its regret. This is similar in many ways to the multiplicative weights algorithm we discussed in the previous lecture."
   ]
  },
  {
   "cell_type": "markdown",
   "id": "a912bec5",
   "metadata": {},
   "source": []
  }
 ],
 "metadata": {
  "language_info": {
   "name": "python"
  }
 },
 "nbformat": 4,
 "nbformat_minor": 5
}
