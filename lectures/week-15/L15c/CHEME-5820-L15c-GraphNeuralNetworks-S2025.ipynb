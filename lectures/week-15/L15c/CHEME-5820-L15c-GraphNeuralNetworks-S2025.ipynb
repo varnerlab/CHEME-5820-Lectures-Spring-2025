{
 "cells": [
  {
   "cell_type": "markdown",
   "id": "53214aa2-6b90-420b-8b7e-c8b19c7ab6eb",
   "metadata": {},
   "source": [
    "# L15c: Introduction to Graph Neural Networks (GNNs)\n",
    "In this lecture, we introduce the concept of [Graph Neural Networks (GNNs)](https://en.wikipedia.org/wiki/Graph_neural_network) and their applications in various domains. The key concepts that students should be able to define and demonstrate from this lecture are:\n",
    "\n",
    "* __Graph Neural Networks (GNNs)__ are a type of neural network architecture specifically designed to operate on data structured as graphs, where entities (nodes) and their relationships (edges) are represented explicitly. The nodes and edges have features (attributes) that can be used to learn graph representations and perform computational operations on the graph structure.\n",
    "* __Message passing in GNNs__: GNNs use message passing, a paradigm in which nodes update their representations by exchanging information with their neighbors. This enables the network to learn complex patterns and dependencies within the graph structures.\n",
    "* __How are GNNs different from traditional neural networks?__ Traditional neural networks typically operate on fixed-size, grid-like data structures (e.g., images, sequences), while GNNs can handle variable-sized graphs with complex connectivity patterns. This flexibility allows GNNs to model relationships and dependencies between entities more effectively, e.g., predicting user behavior in social networks by analyzing connections\n",
    "\n",
    "The sources for this lecture are:\n",
    "* [Wu, Z., Pan, S., Chen, F., Long, G., Zhang, C., & Yu, P.S. (2019). A Comprehensive Survey on Graph Neural Networks. IEEE Transactions on Neural Networks and Learning Systems, 32, 4-24.](https://arxiv.org/abs/1901.00596)\n",
    "* [Zhang Z, Chen L, Zhong F, Wang D, Jiang J, Zhang S, Jiang H, Zheng M, Li X. Graph neural network approaches for drug-target interactions. Curr Opin Struct Biol. 2022 Apr;73:102327. doi: 10.1016/j.sbi.2021.102327. Epub 2022 Jan 21. PMID: 35074533.](https://pubmed.ncbi.nlm.nih.gov/35074533/)\n",
    "* [Corso, G., Stark, H., Jegelka, S. et al. Graph neural networks. Nat Rev Methods Primers 4, 17 (2024). https://doi.org/10.1038/s43586-024-00294-7](https://rdcu.be/ej4aY)\n",
    "* [Wang, C., Kumar, G.A. & Rajapakse, J.C. Drug discovery and mechanism prediction with explainable graph neural networks. Sci Rep 15, 179 (2025). https://doi.org/10.1038/s41598-024-83090-3](https://rdcu.be/ejGUL)\n",
    "* [Lucibello, C., & Rossi, A. (2024). GraphNeuralNetworks.jl: Deep Learning on Graphs with Julia. ArXiv, abs/2412.06354.](https://arxiv.org/abs/2412.06354)\n",
    "* Stanford course on Machine Learning for Graphs 2024: [CS224W: Machine Learning with Graphs](https://web.stanford.edu/class/cs224w/)\n",
    "\n",
    "___"
   ]
  },
  {
   "cell_type": "markdown",
   "id": "182e8473",
   "metadata": {},
   "source": [
    "## Let's get started with GNNs\n",
    "The Stanford course on Machine Learning for Graphs 2024: [CS224W: Machine Learning with Graphs](https://web.stanford.edu/class/cs224w/) is a great resource to learn about GNNs. \n",
    "\n",
    "* _Can I get the course materials_?: Yes! The entire course from 2023 is available on [YouTube](https://www.youtube.com/watch?v=ZfK4FDk9uy8&list=PLlweTYMJoEmfttflTmuIqf9WSTQw9h-Io), and the [course website](https://web.stanford.edu/class/cs224w/) contains all the lecture notes, slides, and assignments for 2024. The course is taught by [Prof. Jure Leskovec](https://cs.stanford.edu/people/jure/), an expert in graph machine learning.\n",
    "\n",
    "Today, we'll walk through two Stanford lectures (stored in the `L15c/docs/` directory):\n",
    "* [Lecture 3 : Graph neural networks slides](https://github.com/varnerlab/CHEME-5820-Lectures-Spring-2025/blob/main/lectures/week-15/L15c/docs/CS224W-L03-GNN-2024.pdf). In this set of slides, we'll introduce GNNs and how information gets passed between nodes in a graph.\n",
    "* [Lecture 4 : Graph neural networks slides](https://github.com/varnerlab/CHEME-5820-Lectures-Spring-2025/blob/main/lectures/week-15/L15c/docs/CS224W-L03-GNN-2024.pdf). In this set of slides, we'll take a closer look at message passing in GNNs."
   ]
  },
  {
   "cell_type": "markdown",
   "id": "3cf9a45e",
   "metadata": {},
   "source": [
    "## Lab\n",
    "In `L15d`, we will implement a GNN using [the `GraphNeuralNetworks.jl` package](https://github.com/JuliaGraphs/GraphNeuralNetworks.jl). Maybe something with biochemistry or finance?"
   ]
  },
  {
   "cell_type": "markdown",
   "id": "22a67313",
   "metadata": {},
   "source": [
    "# Today?\n",
    "That's a wrap! What are some of the interesting things we discussed today?"
   ]
  },
  {
   "cell_type": "code",
   "execution_count": null,
   "id": "2f86895a-a7fb-4281-9237-b77ff336bb7e",
   "metadata": {},
   "outputs": [],
   "source": []
  }
 ],
 "metadata": {
  "kernelspec": {
   "display_name": "Python 3 (ipykernel)",
   "language": "python",
   "name": "python3"
  },
  "language_info": {
   "codemirror_mode": {
    "name": "ipython",
    "version": 3
   },
   "file_extension": ".py",
   "mimetype": "text/x-python",
   "name": "python",
   "nbconvert_exporter": "python",
   "pygments_lexer": "ipython3",
   "version": "3.11.8"
  }
 },
 "nbformat": 4,
 "nbformat_minor": 5
}
