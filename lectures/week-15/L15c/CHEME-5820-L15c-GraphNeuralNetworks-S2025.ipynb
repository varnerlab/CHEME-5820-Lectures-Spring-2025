{
 "cells": [
  {
   "cell_type": "markdown",
   "id": "53214aa2-6b90-420b-8b7e-c8b19c7ab6eb",
   "metadata": {},
   "source": [
    "# L15c: Introdution to Graph Neural Networks\n",
    "In this lecture, we introduce the concept of [Graph Neural Networks (GNNs)](https://en.wikipedia.org/wiki/Graph_neural_network) and their applications in various domains. The key concepts that student should be able to define and demonstrate from this lecture are:\n",
    "\n",
    "* __Graph Neural Networks (GNNs)__ are a type of neural network architecture specifically designed to operate on data structured as graphs, where entities (nodes) and their relationships (edges) are represented explicitly. \n",
    "* __Message passing in GNNs__: GNNs use a process called message passing, in which nodes iteratively aggregate and update their representations by exchanging information with their neighbors, enabling the network to learn complex patterns and dependencies within the graph structure.\n",
    "* __How are GNNs different from traditional neural networks?__ Traditional neural networks typically operate on fixed-size, grid-like data structures (e.g., images, sequences), while GNNs can handle variable-sized graphs with complex connectivity patterns. This flexibility allows GNNs to model relationships and dependencies between entities more effectively, e.g., predicting user behavior in social networks by analyzing connections\n",
    "\n",
    "The sources for this lecture are:\n",
    "* [Graph Neural Networks: A Review of Methods and Applications](https://arxiv.org/abs/1901.00596)\n",
    "* [Wang, C., Kumar, G.A. & Rajapakse, J.C. Drug discovery and mechanism prediction with explainable graph neural networks. Sci Rep 15, 179 (2025). https://doi.org/10.1038/s41598-024-83090-3](https://rdcu.be/ejGUL)\n",
    "* [Lucibello, C., & Rossi, A. (2024). GraphNeuralNetworks.jl: Deep Learning on Graphs with Julia. ArXiv, abs/2412.06354.](https://arxiv.org/abs/2412.06354)\n",
    "* Stanford course on Machine Learning for Graphs 2024: [CS224W: Machine Learning with Graphs](https://web.stanford.edu/class/cs224w/)\n",
    "\n",
    "___\n"
   ]
  },
  {
   "cell_type": "markdown",
   "id": "182e8473",
   "metadata": {},
   "source": [
    "## Let's get started with GNNs\n",
    "The Stanford course on Machine Learning for Graphs 2024: [CS224W: Machine Learning with Graphs](https://web.stanford.edu/class/cs224w/) is a great resource to learn about GNNs. \n",
    "\n",
    "* __Can I get the course materials__?: Yes! The entire course from 2023 is available on [YouTube](https://www.youtube.com/watch?v=ZfK4FDk9uy8&list=PLlweTYMJoEmfttflTmuIqf9WSTQw9h-Io) and the [course website](https://web.stanford.edu/class/cs224w/) contains all the lecture notes, slides, and assignments.\n",
    "\n",
    "Today, we'll walk thorugh the [Lecture 3: Graph neural networks slides which I've downloaded and stored in the  `L15c/docs/` directory](). The slides are available in PDF format and can be opened using the `PyMuPDF` library."
   ]
  },
  {
   "cell_type": "markdown",
   "id": "3cf9a45e",
   "metadata": {},
   "source": [
    "## Lab\n",
    "In `L15d` we will implement a GNN using [the `GraphNeuralNetworks.jl` package](https://github.com/JuliaGraphs/GraphNeuralNetworks.jl)."
   ]
  },
  {
   "cell_type": "markdown",
   "id": "22a67313",
   "metadata": {},
   "source": [
    "# Today?\n",
    "That's a wrap! What are some of the interesting things we discussed today?"
   ]
  },
  {
   "cell_type": "markdown",
   "id": "3cb3df55",
   "metadata": {},
   "source": []
  }
 ],
 "metadata": {
  "kernelspec": {
   "display_name": "Python 3 (ipykernel)",
   "language": "python",
   "name": "python3"
  },
  "language_info": {
   "codemirror_mode": {
    "name": "ipython",
    "version": 3
   },
   "file_extension": ".py",
   "mimetype": "text/x-python",
   "name": "python",
   "nbconvert_exporter": "python",
   "pygments_lexer": "ipython3",
   "version": "3.11.8"
  }
 },
 "nbformat": 4,
 "nbformat_minor": 5
}
