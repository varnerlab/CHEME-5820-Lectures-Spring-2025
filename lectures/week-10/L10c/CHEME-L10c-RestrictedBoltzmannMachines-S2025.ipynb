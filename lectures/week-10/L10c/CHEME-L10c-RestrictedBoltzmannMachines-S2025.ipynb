{
 "cells": [
  {
   "cell_type": "markdown",
   "id": "ec6fbbc0",
   "metadata": {},
   "source": [
    "# L10c: Restricted Boltzmann Machines (RBMs)\n",
    "In tis lecture we will discuss Restricted Boltzmann Machines (RBMs), a type of generative stochastic neural network that can learn a probability distribution over its set of inputs. RBMs are a special case of Boltzmann Machines, which are undirected graphical models that can learn to represent complex distributions over their inputs.\n",
    "* __Restricted Boltzmann Machines__ (RBMs) are a special case of Boltzmann Machines that have a bipartite structure, meaning that the units can be divided into two groups, with no connections between units in the same group. This structure allows for more eﬃcient learning algorithms and has made RBMs more popular in practice. RBMs are often used as building blocks for deep learning architectures, such as deep belief networks and deep Boltzmann machines."
   ]
  },
  {
   "cell_type": "markdown",
   "id": "9a471bae-269b-471b-9eca-fdd4a2fb0333",
   "metadata": {},
   "source": [
    "# "
   ]
  }
 ],
 "metadata": {
  "kernelspec": {
   "display_name": "Julia 1.11.4",
   "language": "julia",
   "name": "julia-1.11"
  },
  "language_info": {
   "file_extension": ".jl",
   "mimetype": "application/julia",
   "name": "julia",
   "version": "1.11.4"
  }
 },
 "nbformat": 4,
 "nbformat_minor": 5
}
