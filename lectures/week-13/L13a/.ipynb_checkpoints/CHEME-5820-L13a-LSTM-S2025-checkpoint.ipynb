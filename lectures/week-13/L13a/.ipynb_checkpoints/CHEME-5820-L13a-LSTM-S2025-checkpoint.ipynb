{
 "cells": [
  {
   "cell_type": "markdown",
   "id": "a047e5c6-77c8-490b-a6a4-59c995b71fce",
   "metadata": {},
   "source": [
    "# L13a: Long Short Term Memory (LSTM) Recurrent Neural Networks"
   ]
  }
 ],
 "metadata": {
  "kernelspec": {
   "display_name": "Julia 1.11.4",
   "language": "julia",
   "name": "julia-1.11"
  },
  "language_info": {
   "file_extension": ".jl",
   "mimetype": "application/julia",
   "name": "julia",
   "version": "1.11.4"
  }
 },
 "nbformat": 4,
 "nbformat_minor": 5
}
