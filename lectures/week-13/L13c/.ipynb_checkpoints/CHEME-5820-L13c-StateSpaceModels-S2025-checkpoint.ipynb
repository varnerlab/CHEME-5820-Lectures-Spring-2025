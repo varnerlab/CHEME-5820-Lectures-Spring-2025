{
 "cells": [
  {
   "cell_type": "markdown",
   "id": "95b1b37d-864f-4fce-8aa8-37675b81f7cb",
   "metadata": {},
   "source": [
    "# L13c: Introduction to Linear Structured State Space Models of Sequences"
   ]
  },
  {
   "cell_type": "code",
   "execution_count": null,
   "id": "8db86bdf-9d57-4a26-b733-b83557890476",
   "metadata": {},
   "outputs": [],
   "source": []
  }
 ],
 "metadata": {
  "kernelspec": {
   "display_name": "Julia 1.11.4",
   "language": "julia",
   "name": "julia-1.11"
  },
  "language_info": {
   "file_extension": ".jl",
   "mimetype": "application/julia",
   "name": "julia",
   "version": "1.11.4"
  }
 },
 "nbformat": 4,
 "nbformat_minor": 5
}
