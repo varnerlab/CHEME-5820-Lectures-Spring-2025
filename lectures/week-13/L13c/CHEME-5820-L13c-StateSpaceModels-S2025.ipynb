{
 "cells": [
  {
   "cell_type": "markdown",
   "id": "95b1b37d-864f-4fce-8aa8-37675b81f7cb",
   "metadata": {},
   "source": [
    "# L13c: Introduction to Linear Structured State Space Models of Sequences\n",
    "In this lecture, we introduce linear structured state space models of _long_ sequences. These models use a time-invariant linear state space representation of _hidden_ state dynamics, and then some type of output mapping between the hidden state and the observed data. The key topics we will cover include:\n",
    "* __Linear time-invariant state space models__: Fill me in.\n",
    "* __S4 Hippo and Mamba models__: Fill me in.\n",
    "* __Training__: Fill me in.\n",
    "\n",
    "The material for this lecture was compiled from the following sources:\n",
    "Fill me in.\n",
    "\n",
    "Let's go!\n",
    "___"
   ]
  },
  {
   "cell_type": "markdown",
   "id": "8db86bdf-9d57-4a26-b733-b83557890476",
   "metadata": {},
   "source": [
    "## Linear Time Invariant State Space Models\n",
    "Linear time invariant (LTI) state space models are a class of _continous time_ models that can be used to represent the dynamics of a system over time. They are characterized by the following equations:\n",
    "$$\n",
    "\\begin{align*}\n",
    "\\dot{\\mathbf{x}} &= \\mathbf{A} \\mathbf{x} + \\mathbf{B} \\mathbf{u} \\\\\n",
    "\\mathbf{y} &= \\mathbf{C} \\mathbf{x} + \\mathbf{D} \\mathbf{u}\n",
    "\\end{align*}\n",
    "$$\n",
    "where $\\mathbf{x}\\in\\mathbb{R}^{h}$ is an $h$-dimensional state vector, $\\mathbf{u}\\in\\mathbb{R}^{d_{in}}$ is the $d_{in}$ dimensional input vector, $\\mathbf{y}\\in\\mathbb{R}^{d_{out}}$ is the $d_{out}$ dimensional output vector. The LTI system is defined are by the system matrices (and the initial state and input):\n",
    "* The $\\mathbf{A}\\in\\mathbb{R}^{h\\times{h}}$ matrix is the state transition matrix, which describes how the state depends upon itself over time.\n",
    "* The $\\mathbf{B}\\in\\mathbb{R}^{h\\times{d_{in}}}$ matrix is the input matrix, which describes how the input vector affects the state.\n",
    "* The $\\mathbf{C}\\in\\mathbb{R}^{d_{out}\\times{h}}$ matrix is the output matrix, which describes how the state affects the output vector.\n",
    "* The $\\mathbf{D}\\in\\mathbb{R}^{d_{out}\\times{d_{in}}}$ matrix is the feedforward matrix, which describes how the input vector affects the output vector.\n",
    "\n",
    "Linear time invariant state space models are a powerful tool for modeling dynamic systems, and they have been widely used in control theory, signal processing, and other fields. They can be used to model a wide range of systems, including mechanical systems, electrical systems, and biological systems.\n",
    "\n",
    "You may be familar with these models from your automatic control class, where they are used to model the dynamics of systems. In this lecture, we will focus on the discrete time version of these models, which are often used in machine learning and signal processing applications.\n",
    "* __Single Input Single Output (SISO)__: The simplest case of a linear time invariant state space model is the single input single output (SISO) case, where there is one input and one output. In this case, the system can be represented by a single transfer function, which describes the relationship between the input and output.\n",
    "* __Multiple Input Multiple Output (MIMO)__: In the multiple input multiple output (MIMO) case, there are multiple inputs and multiple outputs. In this case, the system can be represented by a matrix of transfer functions, which describes the relationship between the inputs and outputs."
   ]
  },
  {
   "cell_type": "markdown",
   "id": "70ba8479",
   "metadata": {},
   "source": []
  }
 ],
 "metadata": {
  "kernelspec": {
   "display_name": "Julia 1.11.4",
   "language": "julia",
   "name": "julia-1.11"
  },
  "language_info": {
   "file_extension": ".jl",
   "mimetype": "application/julia",
   "name": "julia",
   "version": "1.11.4"
  }
 },
 "nbformat": 4,
 "nbformat_minor": 5
}
