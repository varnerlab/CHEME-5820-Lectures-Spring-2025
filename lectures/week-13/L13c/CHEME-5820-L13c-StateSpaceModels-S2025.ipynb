{
 "cells": [
  {
   "cell_type": "markdown",
   "id": "95b1b37d-864f-4fce-8aa8-37675b81f7cb",
   "metadata": {},
   "source": [
    "# L13c: Introduction to Linear Structured State Space Models of Sequences\n",
    "In this lecture, we introduce linear structured state space models of _long_ sequences. These models use a time-invariant linear state space representation of _hidden_ state dynamics, and then some type of output mapping between the hidden state and the observed data. The key topics we will cover include:\n",
    "* __Linear time-invariant state space models__: Fill me in.\n",
    "* __S4 models__: Fill me in.\n",
    "* __Training__: Fill me in.\n",
    "\n",
    "The material for this lecture was compiled from the following sources:\n",
    "Fill me in.\n",
    "\n",
    "Let's go!\n",
    "___"
   ]
  },
  {
   "cell_type": "markdown",
   "id": "8db86bdf-9d57-4a26-b733-b83557890476",
   "metadata": {},
   "source": [
    "## Background: Linear Time Invariant State Space Models\n",
    "Linear time invariant (LTI) state space models are a class of _continous time_ models that can be used to represent the dynamics of a system over time. They are characterized by the following equations:\n",
    "$$\n",
    "\\begin{align*}\n",
    "\\dot{\\mathbf{x}} &= \\mathbf{A} \\mathbf{x} + \\mathbf{B} \\mathbf{u} \\\\\n",
    "\\mathbf{y} &= \\mathbf{C} \\mathbf{x} + \\mathbf{D} \\mathbf{u}\n",
    "\\end{align*}\n",
    "$$\n",
    "where $\\mathbf{x}\\in\\mathbb{R}^{h}$ is an $h$-dimensional state vector, $\\mathbf{u}\\in\\mathbb{R}^{d_{in}}$ is the $d_{in}$ dimensional input vector, $\\mathbf{y}\\in\\mathbb{R}^{d_{out}}$ is the $d_{out}$ dimensional output vector. The LTI system is defined are by the system matrices (and the initial state and input):\n",
    "* The $\\mathbf{A}\\in\\mathbb{R}^{h\\times{h}}$ matrix is the state transition matrix, which describes how the state depends upon itself over time.\n",
    "* The $\\mathbf{B}\\in\\mathbb{R}^{h\\times{d_{in}}}$ matrix is the input matrix, which describes how the input vector affects the state.\n",
    "* The $\\mathbf{C}\\in\\mathbb{R}^{d_{out}\\times{h}}$ matrix is the output matrix, which describes how the state affects the output vector.\n",
    "* The $\\mathbf{D}\\in\\mathbb{R}^{d_{out}\\times{d_{in}}}$ matrix is the feedforward matrix, which describes how the input vector affects the output vector.\n",
    "\n",
    "Linear time invariant state space models are a powerful tool for modeling dynamic systems, and they have been widely used in control theory, signal processing, and other fields. They can be used to model a wide range of systems, including mechanical systems, electrical systems, and biological systems.\n",
    "\n",
    "You may be familar with these models from your automatic control class, where they are used to model the dynamics of systems. In this lecture, we will focus on the discrete time version of these models, which are often used in machine learning and signal processing applications.\n",
    "* __Single Input Single Output (SISO)__: The simplest case of a linear time invariant state space model is the single input single output (SISO) case, where there is one input $d_{in} = 1$ and one output $d_{out} = 1$ _per time step_. In this case, the system can be represented by a single transfer function, which describes the relationship between the input and output.\n",
    "* __Multiple Input Multiple Output (MIMO)__: In the multiple input multiple output (MIMO) case, there are multiple inputs and multiple outputs. In this case, the system can be represented by a matrix of transfer functions, which describes the relationship between the inputs and outputs.\n",
    "\n",
    "The different versions of this approach for modeling long sequences differ in teh structure of the system matricies."
   ]
  },
  {
   "cell_type": "markdown",
   "id": "70ba8479",
   "metadata": {},
   "source": [
    "## S4 Methods\n",
    "The S4 (Structured State Spaces) models, [developed by the Re lab at Stanford](), represent a significant advancement in sequence modeling by leveraging the mathematical framework of state space models (SSMs) and the HiPPO (Highly Predictive Polynomial Operators) theory. \n",
    "\n",
    "* _Advantage_: Unlike traditional architectures such as RNNs, CNNs, or Transformers, S4 models are designed to efficiently capture long-range dependencies in sequential data by using a continuous-time state space formulation and a specialized state matrix known as the HiPPO matrix. This approach enables S4 to process very long sequences with linear computational and memory complexity, making it highly scalable and effective for tasks involving extensive context, such as time series forecasting, audio, and language modeling.\n",
    "* _Key innovation_: The S4 model decomposes the HiPPO matrix into the sum of a low-rank and normal components - which allows for fast and stable computation, while its mathematical foundation provides a principled mechanism for memorizing input history over long time horizons. \n",
    "* _Does it work?_ Yes! The S4 approach has set new benchmarks for long-range sequence modeling, demonstrating both state-of-the-art performance and efficiency across a variety of domains.\n",
    "\n",
    "### SISO Leg-S $\\mathbf{A}$ and $\\mathbf{B}$ HiPPO matrices\n",
    "The Leg-S HiPPO matrices are a specific type of structured state space model that is designed to efficiently capture long-range dependencies in sequential data. \n",
    "* _What_? The Leg-S approach is based on [Legendre polynomials](https://en.wikipedia.org/wiki/Legendre_polynomials), which are a set of orthogonal polynomials that can be used to represent functions over a finite interval. \n",
    "\n",
    "The Leg-S HiPPO $a_{ik}\\in\\mathbf{A}$ state transition matrix for a `SISO` problem is constructed as:\n",
    "$$\n",
    "\\begin{align*}\n",
    "a_{ik} &= \\begin{cases}\n",
    "    \\left(2i+1\\right)^{1/2}\\left(2k+1\\right)^{1/2} & \\text{if } i>k \\\\\n",
    "    \\left(i+1\\right) & \\text{if } i=k \\\\\n",
    "    0 & \\text{if } i<k \\\\\n",
    "\\end{cases}\n",
    "\\end{align*}\n",
    "$$\n",
    "where the $b_{n}\\in\\mathbf{B}$ input matrix is constructed as:\n",
    "$$\n",
    "\\begin{align*}\n",
    "b_{i} &= \\left(2i+1\\right)^{1/2} \\\\\n",
    "\\end{align*}\n",
    "$$\n",
    "\n",
    "This form of $\\mathbf{A}$ and $\\mathbf{B}$ have some nice theoretical properties, including:\n",
    "* _Time invariance_: The Leg-S HiPPO matrices are invariant to the input timescale, which means that they can be used to model systems with different time scales without changing the underlying structure of the model.\n",
    "* _Fast computation and bounded_: The Leg-S HiPPO matrices can be computed efficiently using fast algorithms, which makes them suitable for real-time applications. The Leg-S HiPPO matrices also give rise to bounded gradients and appromation errors.\n",
    "\n",
    "Let's build some example $\\mathbf{A}$ and $\\mathbf{B}$ matrices using the Leg-S HiPPO approach. "
   ]
  },
  {
   "cell_type": "code",
   "execution_count": 1,
   "id": "a9efc7b9",
   "metadata": {},
   "outputs": [
    {
     "data": {
      "text/plain": [
       "([2.0 0.0 … 0.0 0.0; 3.872983346207417 3.0 … 0.0 0.0; … ; 7.54983443527075 9.746794344808965 … 10.0 0.0; 7.937253933193771 10.246950765959598 … 19.97498435543818 11.0], [1.7320508075688772; 2.23606797749979; … ; 4.358898943540674; 4.58257569495584;;])"
      ]
     },
     "execution_count": 1,
     "metadata": {},
     "output_type": "execute_result"
    }
   ],
   "source": [
    "(A,B) = let\n",
    "\n",
    "    # initialize -\n",
    "    h = 10; # internal hidden state memory size\n",
    "    din = 1; # we are SISO, so single input \n",
    "    A = Array{Float64,2}(undef, h, h); # internal hidden state memory\n",
    "    B = Array{Float64,2}(undef, h, din); # internal hidden state memory\n",
    "\n",
    "    # build the A-matrix\n",
    "    for i ∈ 1:h\n",
    "        for k = 1:h\n",
    "            \n",
    "            if (i > k)\n",
    "                A[i,k] = sqrt((2*i+1))*sqrt((2*k+1));\n",
    "\n",
    "            elseif (i == k)\n",
    "                A[i,k] = (i+1);\n",
    "            else\n",
    "                A[i,k] = 0.0;\n",
    "            end\n",
    "        end\n",
    "    end\n",
    "\n",
    "    # build the B-matrix\n",
    "    for i ∈ 1:h\n",
    "        B[i,1] = sqrt((2*i+1));\n",
    "    end\n",
    "\n",
    "    # return -\n",
    "    (A,B)\n",
    "end"
   ]
  },
  {
   "cell_type": "markdown",
   "id": "72e890ee",
   "metadata": {},
   "source": [
    "So we have $\\mathbf{A}$ and $\\mathbf{B}$ matrices that are structured in a way that allows us to efficiently compute the state space model. Where do we get $\\mathbf{C}$ and $\\mathbf{D}$ from? We estimate these matricies from the training data."
   ]
  },
  {
   "cell_type": "markdown",
   "id": "472f4b95",
   "metadata": {},
   "source": [
    "### Training an S4 model\n",
    "Fill me in"
   ]
  },
  {
   "cell_type": "markdown",
   "id": "3f2aa052",
   "metadata": {},
   "source": []
  },
  {
   "cell_type": "markdown",
   "id": "dbc2973a",
   "metadata": {},
   "source": []
  }
 ],
 "metadata": {
  "kernelspec": {
   "display_name": "Julia 1.11.4",
   "language": "julia",
   "name": "julia-1.11"
  },
  "language_info": {
   "file_extension": ".jl",
   "mimetype": "application/julia",
   "name": "julia",
   "version": "1.11.4"
  }
 },
 "nbformat": 4,
 "nbformat_minor": 5
}
