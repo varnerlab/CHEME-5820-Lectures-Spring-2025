{
 "cells": [
  {
   "cell_type": "markdown",
   "id": "4a31634a-4e99-444b-ad3c-0a4a5a3620c9",
   "metadata": {},
   "source": [
    "# L4a: Kernel Functions and Kernel Regression\n",
    "Fill me in"
   ]
  },
  {
   "cell_type": "markdown",
   "id": "9dff6ea4-ae7c-4441-8275-49adf037daa1",
   "metadata": {},
   "source": [
    "## Setup, Data, and Prerequisites\n",
    "We set up the computational environment by including the `Include.jl` file, loading any needed resources, such as sample datasets, and setting up any required constants. The `Include.jl` file loads external packages, various functions that we will use in the exercise, and custom types to model the components of our problem."
   ]
  },
  {
   "cell_type": "code",
   "execution_count": 3,
   "id": "34a1146f-5550-425f-8b1a-f7c28b13342f",
   "metadata": {},
   "outputs": [],
   "source": [
    "include(\"Include.jl\");"
   ]
  },
  {
   "cell_type": "markdown",
   "id": "e0c90f56-7893-4bbf-a215-9124b8164940",
   "metadata": {},
   "source": [
    "### Data\n",
    "We gathered a daily open-high-low-close `dataset` for each firm in the [S&P500](https://en.wikipedia.org/wiki/S%26P_500) from `01-03-2014` until `02-07-2025`, along with data for a few exchange-traded funds and volatility products during that time. We load the `orignal_dataset` by calling the `MyMarketDataSet()` function:"
   ]
  },
  {
   "cell_type": "code",
   "execution_count": 5,
   "id": "9a524ae8-284a-4c53-876a-9081522a165d",
   "metadata": {},
   "outputs": [],
   "source": [
    "original_dataset = MyMarketDataSet() |> x-> x[\"dataset\"];"
   ]
  },
  {
   "cell_type": "markdown",
   "id": "2b90d9f0-b657-4231-a4fd-6e221291f522",
   "metadata": {},
   "source": [
    "\n",
    "__Clean the data__: Not all tickers in our dataset have the maximum number of trading days for various reasons, e.g., acquisition or de-listing events. Let's collect only those tickers with the maximum number of trading days.\n",
    "\n",
    "* First, let's compute the number of records for a company that we know has a maximum value, e.g., `AAPL`, and save that value in the `maximum_number_trading_days` variable:"
   ]
  },
  {
   "cell_type": "code",
   "execution_count": 7,
   "id": "4bd48bcd-e48c-4e0e-ac4a-d87502280055",
   "metadata": {},
   "outputs": [],
   "source": [
    "maximum_number_trading_days = original_dataset[\"AAPL\"] |> nrow;"
   ]
  },
  {
   "cell_type": "markdown",
   "id": "4df21688-df65-493f-9940-be418587ca5a",
   "metadata": {},
   "source": [
    "Now, lets iterate through our data and collect only those tickers that have `maximum_number_trading_days` records. Save that data in the `dataset::Dict{String,DataFrame}` variable:"
   ]
  },
  {
   "cell_type": "code",
   "execution_count": 9,
   "id": "155c0808-9e37-4f3c-a114-62a2bcf1cf8a",
   "metadata": {},
   "outputs": [],
   "source": [
    "dataset = let\n",
    "\n",
    "    dataset = Dict{String,DataFrame}();\n",
    "    for (ticker,data) ∈ original_dataset\n",
    "        if (nrow(data) == maximum_number_trading_days)\n",
    "            dataset[ticker] = data;\n",
    "        end\n",
    "    end\n",
    "    dataset\n",
    "end;"
   ]
  },
  {
   "cell_type": "markdown",
   "id": "4fdf5d55-eb01-4798-a76d-b042812ac00e",
   "metadata": {},
   "source": [
    "Let's get a list of firms in the cleaned up `dataset` and save it in the `all_tickers` array. We sort the firms alphabetically from `A` to `Z`:"
   ]
  },
  {
   "cell_type": "code",
   "execution_count": 11,
   "id": "88d92a9d-6fa5-4c70-9eaa-67763a39d1ca",
   "metadata": {},
   "outputs": [],
   "source": [
    "list_of_all_tickers = keys(dataset) |> collect |> sort;"
   ]
  },
  {
   "cell_type": "markdown",
   "id": "61433052-040a-4c02-a8ef-ecea1425cd58",
   "metadata": {},
   "source": [
    "Compute the expected (annualized) excess log growth rate by passing the `dataset` and the entire list of firms we have in the dataset to the [log_growth_matrix(...) method](src/Compute.jl). The log growth rate between time period $j-1$ to $j$, e.g., yesterday to today is defined as:\n",
    "$$\n",
    "\\begin{equation}\n",
    "\\mu_{j,j-1} = \\left(\\frac{1}{\\Delta{t}}\\right)\\ln\\left(\\frac{S_{j}}{S_{j-1}}\\right)\n",
    "\\end{equation}\n",
    "$$\n",
    "where $\\Delta{t}$ denotes the period time step, and $S_{j}$ denote share price in period $j$.\n",
    "* The log growth rates are stored in the `D::Array{Float64,2}` variable, a $T-1\\times{N}$ array of log return values. Each row of the `D` matrix corresponds to a time value, while each column corresponds to a firm"
   ]
  },
  {
   "cell_type": "code",
   "execution_count": 27,
   "id": "a9c50373-b6a3-486f-bc85-9c2ffab00a21",
   "metadata": {},
   "outputs": [
    {
     "data": {
      "text/plain": [
       "2791×424 Matrix{Float64}:\n",
       " -0.919054     6.23955    -2.91247    …   -0.796891    0.204394  -1.04677\n",
       "  2.77476      1.02999     1.35089         2.09682    -0.84429    0.944968\n",
       "  3.27155      0.814097   -0.036132        0.068377    1.1495    -2.62294\n",
       "  0.604925    17.2184      1.65065         0.233216    3.1178    -0.409728\n",
       "  1.77459      2.53811     3.27774         0.580177   -2.2102     4.36159\n",
       "  0.57233     -4.00534    -0.83428    …   -0.904239   -1.95127   -3.15774\n",
       "  2.81921     -0.525251    4.80423         1.7242     -1.81835   -1.1311\n",
       "  2.00521      0.972004    1.86659         1.63447     4.40834   -0.179319\n",
       "  1.27139      1.63263     0.0657592      -1.54858    -2.17846    1.39634\n",
       "  1.17866      6.08807     0.891078       -1.57352     2.83634   -1.47776\n",
       " -0.479168     4.82859     0.96624    …   -0.362761    9.46677   -3.05023\n",
       "  1.32131      3.57167    -2.38926         0.669113    4.48073    0.299031\n",
       " -4.78054      1.34435    -3.05774        -2.19395    -6.69057    1.36462\n",
       "  ⋮                                   ⋱                          \n",
       " -1.47096    -21.5367      4.50442        -1.68655    -0.759025  -0.770983\n",
       " -0.0717231   -1.64313     3.59808    …   -2.40644     2.10455    2.58079\n",
       " -1.72058      3.09602     4.41392        -9.38229    -2.70206    6.11174\n",
       "  0.885817    -0.261178   -1.37645         0.404962   -1.76972   -0.762716\n",
       " -6.30739     -0.714907    0.885508       -0.459363    0.77441   -2.05469\n",
       "  6.28051     -3.20957     4.7925         -2.73308     2.62737    4.33225\n",
       "  1.40002      1.40186    -5.82424    …   -0.887621   -1.7872    -2.57942\n",
       " -5.44561     -6.80852    -4.27744        -6.80995    -7.53805    0.529063\n",
       " -3.14876      3.44566     8.65486         0.0722037   3.53295    0.340111\n",
       "  1.42848      1.88871    -1.651           1.53426     0.858419   4.29793\n",
       " -0.689024     1.81352    -0.0665703      -5.369       3.36167    0.0911751\n",
       " -2.77586      2.62659   -14.4261     …  -10.239      -3.23907   -4.34116"
      ]
     },
     "execution_count": 27,
     "metadata": {},
     "output_type": "execute_result"
    }
   ],
   "source": [
    "D = let\n",
    "\n",
    "    # setup some constants -\n",
    "    Δt = (1/252); # 1-trading day in units of years\n",
    "    risk_free_rate = 0.0415; # inferred cc risk-free rate\n",
    "\n",
    "    # compute\n",
    "    μ = log_growth_matrix(dataset, list_of_all_tickers, Δt = Δt, \n",
    "        risk_free_rate = risk_free_rate);\n",
    "\n",
    "    # return to caller\n",
    "    μ\n",
    "end"
   ]
  },
  {
   "cell_type": "markdown",
   "id": "c3d89ec7-871e-4ba0-95e7-aaab356f3cc7",
   "metadata": {},
   "source": [
    "Next, let's [z-score center](https://en.wikipedia.org/wiki/Feature_scaling) the continous feature data. In [z-score feature scaling](https://en.wikipedia.org/wiki/Feature_scaling), we subtract off the mean of each feature and then divide by the standard deviation, i.e., $x^{\\prime} = (x - \\mu)/\\sigma$ where $x$ is the unscaled data, and $x^{\\prime}$ is the scaled data. Under this scaling regime, $x^{\\prime}\\leq{0}$ will be values that are less than or equal to the mean value $\\mu$, while $x^{\\prime}>0$ indicate values that are greater than the mean.\n",
    "\n",
    "We save the z-score centered growth data data in the `D̄::Array{Float64,2}` variable:"
   ]
  },
  {
   "cell_type": "code",
   "execution_count": 32,
   "id": "6ce7190a-46f4-4ec7-80d5-c90d4de56f8d",
   "metadata": {},
   "outputs": [
    {
     "data": {
      "text/plain": [
       "2791×424 Matrix{Float64}:\n",
       " -0.270236    0.875241   -0.51285    …  -0.172603    0.0340086  -0.326599\n",
       "  0.735235    0.153683    0.270667       0.365351   -0.156963    0.235764\n",
       "  0.870466    0.123779    0.0157621     -0.0117454   0.206118   -0.771629\n",
       "  0.144598    2.39589     0.325758       0.018899    0.564557   -0.146732\n",
       "  0.462985    0.362567    0.624783       0.0834006  -0.405704    1.20044\n",
       "  0.135725   -0.543745   -0.130921   …  -0.192559   -0.35855    -0.922629\n",
       "  0.747335   -0.0617295   0.905321       0.29608    -0.334345   -0.35041\n",
       "  0.52576     0.145651    0.365443       0.279399    0.799572   -0.0816769\n",
       "  0.326013    0.237151    0.0344876     -0.312346   -0.399924    0.363208\n",
       "  0.30077     0.854261    0.186164      -0.316981    0.513302   -0.448288\n",
       " -0.150497    0.679814    0.199977   …  -0.0918959   1.72074    -0.892273\n",
       "  0.339601    0.505721   -0.416694       0.0999343   0.812754    0.0533844\n",
       " -1.32135     0.197223   -0.539546      -0.432322   -1.22161     0.354251\n",
       "  ⋮                                  ⋱                          \n",
       " -0.420465   -2.97196     0.850221      -0.337995   -0.141436   -0.248732\n",
       " -0.0395886  -0.216563    0.683655   …  -0.471825    0.380037    0.697634\n",
       " -0.488413    0.439841    0.83359       -1.76867    -0.495274    1.69459\n",
       "  0.221058   -0.0251536  -0.23056        0.0508272  -0.325489   -0.246398\n",
       " -1.73696    -0.0879981   0.18514       -0.109855    0.137812   -0.611184\n",
       "  1.68952    -0.433526    0.903164      -0.532549    0.475246    1.19216\n",
       "  0.361025    0.205188   -1.04797    …  -0.18947    -0.328673   -0.759341\n",
       " -1.50238    -0.932005   -0.763702      -1.29046    -1.37594     0.118333\n",
       " -0.877171    0.488268    1.61299       -0.011034    0.640157    0.0649832\n",
       "  0.368773    0.27262    -0.281018       0.260768    0.15311     1.18247\n",
       " -0.20762     0.262206    0.0101682     -1.02258     0.608967   -0.0053034\n",
       " -0.775666    0.374822   -2.62881    …  -1.92793    -0.593067   -1.25676"
      ]
     },
     "execution_count": 32,
     "metadata": {},
     "output_type": "execute_result"
    }
   ],
   "source": [
    "D̄ = let\n",
    "\n",
    "    # setup -\n",
    "    number_of_examples = size(D,1);\n",
    "\n",
    "    D̄ = copy(D);\n",
    "    for j ∈ eachindex(list_of_all_tickers)\n",
    "        μ = mean(D[:,j]); # compute the mean\n",
    "        σ = std(D[:,j]); # compute std\n",
    "\n",
    "        # rescale -\n",
    "        for k ∈ 1:number_of_examples\n",
    "            D̄[k,j] = (D[k,j] - μ)/σ;\n",
    "        end\n",
    "    end\n",
    "    \n",
    "    D̄\n",
    "end"
   ]
  },
  {
   "cell_type": "markdown",
   "id": "140cc400-873d-4742-a1d4-aa01a0545013",
   "metadata": {},
   "source": [
    "## Kernel Functions\n",
    "Kernel functions in machine learning are mathematical tools that enable algorithms to operate in high-dimensional spaces without explicitly computing the coordinates in those spaces.\n",
    "\n",
    "* __What are kernel functions__? A kernel function $k:\\mathbb{R}^{\\star}\\times\\mathbb{R}^{\\star}\\to\\mathbb{R}$ takes a pair of vectors $\\mathbf{z}_i\\in\\mathbb{R}^{\\star}$ and $\\mathbf{z}_j\\in\\mathbb{R}^{\\star}$ as arguments, \n",
    "e.g., a pair of feature vectors, a feature vector and a parameter vector, or any two vectors of compatible size \n",
    ", computes a scalar value that represents the similarity (in some sense) between the two vector arguments.\n",
    "* __Common kernel functions__: Common kernel functions include the linear kernel, which is the dot product between two vectors $k(\\mathbf{z}_i, \\mathbf{z}_j) = \\mathbf{z}_i^{\\top}\\mathbf{z}_j$, the polynomial kernel is defined as: $k_{d}(\\mathbf{z}_i, \\mathbf{z}_j) = (1+\\mathbf{z}_i^{\\top}\\mathbf{z}_j)^d$ and the radial basis function (RBF) kernel $k_{\\gamma}(\\mathbf{z}_i, \\mathbf{z}_j) = \\exp(-\\gamma \\lVert\\mathbf{z}_i - \\mathbf{z}_j\\rVert_{2}^2)$ where $\\gamma$ is a scaling factor, and $\\lVert\\cdot\\rVert^{2}_{2}$ is the squared Euclidean norm\n",
    "* __What do kernel functions do__? Kernel functions can be thought of as similarity measures, i.e., they quantify the similarity between pairs of data points in a high-dimensional space."
   ]
  },
  {
   "cell_type": "code",
   "execution_count": null,
   "id": "abdbf01f-0192-4003-a8e1-847d073f5db1",
   "metadata": {},
   "outputs": [],
   "source": []
  }
 ],
 "metadata": {
  "kernelspec": {
   "display_name": "Julia 1.11.3",
   "language": "julia",
   "name": "julia-1.11"
  },
  "language_info": {
   "file_extension": ".jl",
   "mimetype": "application/julia",
   "name": "julia",
   "version": "1.11.3"
  }
 },
 "nbformat": 4,
 "nbformat_minor": 5
}
